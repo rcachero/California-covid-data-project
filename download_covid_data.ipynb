{
 "cells": [
  {
   "cell_type": "code",
   "execution_count": 1,
   "metadata": {},
   "outputs": [],
   "source": [
    "# import packages\n",
    "from selenium import webdriver\n",
    "from webdriver_manager.chrome import ChromeDriverManager\n",
    "from selenium.webdriver.chrome.options import Options\n",
    "import shutil\n",
    "import glob\n",
    "import os\n",
    "from unicodedata import *\n",
    "import time"
   ]
  },
  {
   "cell_type": "code",
   "execution_count": 2,
   "metadata": {},
   "outputs": [
    {
     "name": "stderr",
     "output_type": "stream",
     "text": [
      "\n",
      "\n",
      "====== WebDriver manager ======\n",
      "Current google-chrome version is 96.0.4664\n",
      "Get LATEST chromedriver version for 96.0.4664 google-chrome\n",
      "Trying to download new driver from https://chromedriver.storage.googleapis.com/96.0.4664.45/chromedriver_win32.zip\n",
      "Driver has been saved in cache [C:\\Users\\ralph\\.wdm\\drivers\\chromedriver\\win32\\96.0.4664.45]\n",
      "C:\\Users\\ralph\\AppData\\Local\\Temp/ipykernel_6148/1267279461.py:2: DeprecationWarning: executable_path has been deprecated, please pass in a Service object\n",
      "  driver = webdriver.Chrome(ChromeDriverManager().install())\n"
     ]
    }
   ],
   "source": [
    "# open a chrome browser using selenium\n",
    "driver = webdriver.Chrome(ChromeDriverManager().install())"
   ]
  },
  {
   "cell_type": "code",
   "execution_count": 3,
   "metadata": {},
   "outputs": [],
   "source": [
    "# go to web page where excel file links are located\n",
    "driver.get(\"https://data.chhs.ca.gov/dataset/covid-19-time-series-metrics-by-county-and-state\")"
   ]
  },
  {
   "cell_type": "code",
   "execution_count": 4,
   "metadata": {},
   "outputs": [],
   "source": [
    "# these options allow selenium to download files \n",
    "options = Options()\n",
    "options.add_experimental_option(\"browser.download.folderList\",2)\n",
    "options.add_experimental_option(\"browser.download.manager.showWhenStarting\", False)\n",
    "options.add_experimental_option(\"browser.helperApps.neverAsk.saveToDisk\", \"application/octet-stream,application/vnd.ms-excel\")"
   ]
  },
  {
   "cell_type": "code",
   "execution_count": 5,
   "metadata": {},
   "outputs": [
    {
     "name": "stderr",
     "output_type": "stream",
     "text": [
      "C:\\Users\\ralph\\AppData\\Local\\Temp/ipykernel_6148/742815614.py:2: DeprecationWarning: find_element_by_* commands are deprecated. Please use find_element() instead\n",
      "  link = driver.find_element_by_xpath('/html/body/div[3]/div/div[3]/div/article/div/section[1]/ul/li[1]/div/a[2]')\n"
     ]
    }
   ],
   "source": [
    "# initialize an object to the location on the web page and click on it to download\n",
    "link = driver.find_element_by_xpath('/html/body/div[3]/div/div[3]/div/article/div/section[1]/ul/li[1]/div/a[2]')\n",
    "link.click()\n",
    "\n",
    "# Wait for 15 seconds to allow chrome to download file\n",
    "time.sleep(15)"
   ]
  },
  {
   "cell_type": "code",
   "execution_count": 6,
   "metadata": {},
   "outputs": [
    {
     "name": "stdout",
     "output_type": "stream",
     "text": [
      "['/Users/ralph/Downloads\\\\covid19cases_test.csv', '/Users/ralph/Downloads\\\\FundPerformance_38557.csv']\n"
     ]
    }
   ],
   "source": [
    "# locating most recent .xlsx downloaded file \n",
    "list_of_files = glob.glob('/Users/ralph/Downloads/*.csv')\n",
    "latest_file = max(list_of_files, key=os.path.getmtime)\n",
    "print(list_of_files)"
   ]
  },
  {
   "cell_type": "code",
   "execution_count": 7,
   "metadata": {},
   "outputs": [
    {
     "data": {
      "text/plain": [
       "'/Users/ralph/Downloads/covid19cases_test.csv'"
      ]
     },
     "execution_count": 7,
     "metadata": {},
     "output_type": "execute_result"
    }
   ],
   "source": [
    "# replace \"\\\" with \"/\" so file path can be located by python\n",
    "latest_file = latest_file.replace(\"\\\\\", \"/\")\n",
    "latest_file"
   ]
  },
  {
   "cell_type": "code",
   "execution_count": 8,
   "metadata": {},
   "outputs": [
    {
     "name": "stdout",
     "output_type": "stream",
     "text": [
      "deleting old csv file: /Users/ralph/Documents/python_dashboard/california_covid_data_dashboard_project\\covid19cases_test.csv\n"
     ]
    },
    {
     "data": {
      "text/plain": [
       "'/Users/ralph/Documents/python_dashboard/california_covid_data_dashboard_project/covid19cases_test.csv'"
      ]
     },
     "execution_count": 8,
     "metadata": {},
     "output_type": "execute_result"
    }
   ],
   "source": [
    "# we need to locate the old .csv file(s) in the dir we want to store the new csv file in\n",
    "list_of_files = glob.glob('/Users/ralph/Documents/python_dashboard/california_covid_data_dashboard_project/*.csv')\n",
    "\n",
    "# need to delete the old csv file(s) so if we download new csv file with same name we do not get an error while moving it\n",
    "for file in list_of_files:\n",
    "    print(\"deleting old csv file:\", file)\n",
    "    os.remove(file)\n",
    "\n",
    "# Move the new file from the download dir to the github dir\n",
    "shutil.move(latest_file, '/Users/ralph/Documents/python_dashboard/california_covid_data_dashboard_project/')"
   ]
  }
 ],
 "metadata": {
  "interpreter": {
   "hash": "f20a23de522814e82e35e20e09d1774079f0420cbee91c940df898d98678a8e1"
  },
  "kernelspec": {
   "display_name": "Python 3",
   "language": "python",
   "name": "python3"
  },
  "language_info": {
   "codemirror_mode": {
    "name": "ipython",
    "version": 3
   },
   "file_extension": ".py",
   "mimetype": "text/x-python",
   "name": "python",
   "nbconvert_exporter": "python",
   "pygments_lexer": "ipython3",
   "version": "3.10.1"
  }
 },
 "nbformat": 4,
 "nbformat_minor": 2
}
